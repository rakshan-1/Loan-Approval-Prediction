{
 "cells": [
  {
   "cell_type": "markdown",
   "id": "4d0dd3fa-435a-4f4d-9b89-76d299a24e4f",
   "metadata": {},
   "source": [
    "# Importing Libraries"
   ]
  },
  {
   "cell_type": "code",
   "execution_count": 1,
   "id": "c9b9d11e-e999-4106-ac67-ae335e45ff06",
   "metadata": {},
   "outputs": [],
   "source": [
    "import numpy as np\n",
    "import pandas as pd\n",
    "import matplotlib.pyplot as plt\n",
    "%matplotlib inline\n",
    "import seaborn as sns\n",
    "import warnings\n",
    "warnings.filterwarnings('ignore') "
   ]
  },
  {
   "cell_type": "markdown",
   "id": "14bd41cc-f956-44de-ad53-71185b876558",
   "metadata": {},
   "source": [
    "# Importing & Loading the dataset"
   ]
  },
  {
   "cell_type": "code",
   "execution_count": 3,
   "id": "4457a9a9-f7d2-4e76-8224-267e55abded1",
   "metadata": {},
   "outputs": [
    {
     "data": {
      "text/html": [
       "<div>\n",
       "<style scoped>\n",
       "    .dataframe tbody tr th:only-of-type {\n",
       "        vertical-align: middle;\n",
       "    }\n",
       "\n",
       "    .dataframe tbody tr th {\n",
       "        vertical-align: top;\n",
       "    }\n",
       "\n",
       "    .dataframe thead th {\n",
       "        text-align: right;\n",
       "    }\n",
       "</style>\n",
       "<table border=\"1\" class=\"dataframe\">\n",
       "  <thead>\n",
       "    <tr style=\"text-align: right;\">\n",
       "      <th></th>\n",
       "      <th>Loan_ID</th>\n",
       "      <th>Gender</th>\n",
       "      <th>Married</th>\n",
       "      <th>Dependents</th>\n",
       "      <th>Education</th>\n",
       "      <th>Self_Employed</th>\n",
       "      <th>ApplicantIncome</th>\n",
       "      <th>CoapplicantIncome</th>\n",
       "      <th>LoanAmount</th>\n",
       "      <th>Loan_Amount_Term</th>\n",
       "      <th>Credit_History</th>\n",
       "      <th>Property_Area</th>\n",
       "      <th>Loan_Status</th>\n",
       "    </tr>\n",
       "  </thead>\n",
       "  <tbody>\n",
       "    <tr>\n",
       "      <th>0</th>\n",
       "      <td>LP001003</td>\n",
       "      <td>Male</td>\n",
       "      <td>Yes</td>\n",
       "      <td>1</td>\n",
       "      <td>Graduate</td>\n",
       "      <td>No</td>\n",
       "      <td>4583</td>\n",
       "      <td>1508.0</td>\n",
       "      <td>128</td>\n",
       "      <td>360.0</td>\n",
       "      <td>1.0</td>\n",
       "      <td>Rural</td>\n",
       "      <td>N</td>\n",
       "    </tr>\n",
       "    <tr>\n",
       "      <th>1</th>\n",
       "      <td>LP001005</td>\n",
       "      <td>Male</td>\n",
       "      <td>Yes</td>\n",
       "      <td>0</td>\n",
       "      <td>Graduate</td>\n",
       "      <td>Yes</td>\n",
       "      <td>3000</td>\n",
       "      <td>0.0</td>\n",
       "      <td>66</td>\n",
       "      <td>360.0</td>\n",
       "      <td>1.0</td>\n",
       "      <td>Urban</td>\n",
       "      <td>Y</td>\n",
       "    </tr>\n",
       "    <tr>\n",
       "      <th>2</th>\n",
       "      <td>LP001006</td>\n",
       "      <td>Male</td>\n",
       "      <td>Yes</td>\n",
       "      <td>0</td>\n",
       "      <td>Not Graduate</td>\n",
       "      <td>No</td>\n",
       "      <td>2583</td>\n",
       "      <td>2358.0</td>\n",
       "      <td>120</td>\n",
       "      <td>360.0</td>\n",
       "      <td>1.0</td>\n",
       "      <td>Urban</td>\n",
       "      <td>Y</td>\n",
       "    </tr>\n",
       "    <tr>\n",
       "      <th>3</th>\n",
       "      <td>LP001008</td>\n",
       "      <td>Male</td>\n",
       "      <td>No</td>\n",
       "      <td>0</td>\n",
       "      <td>Graduate</td>\n",
       "      <td>No</td>\n",
       "      <td>6000</td>\n",
       "      <td>0.0</td>\n",
       "      <td>141</td>\n",
       "      <td>360.0</td>\n",
       "      <td>1.0</td>\n",
       "      <td>Urban</td>\n",
       "      <td>Y</td>\n",
       "    </tr>\n",
       "    <tr>\n",
       "      <th>4</th>\n",
       "      <td>LP001013</td>\n",
       "      <td>Male</td>\n",
       "      <td>Yes</td>\n",
       "      <td>0</td>\n",
       "      <td>Not Graduate</td>\n",
       "      <td>No</td>\n",
       "      <td>2333</td>\n",
       "      <td>1516.0</td>\n",
       "      <td>95</td>\n",
       "      <td>360.0</td>\n",
       "      <td>1.0</td>\n",
       "      <td>Urban</td>\n",
       "      <td>Y</td>\n",
       "    </tr>\n",
       "  </tbody>\n",
       "</table>\n",
       "</div>"
      ],
      "text/plain": [
       "    Loan_ID Gender Married Dependents     Education Self_Employed  \\\n",
       "0  LP001003   Male     Yes          1      Graduate            No   \n",
       "1  LP001005   Male     Yes          0      Graduate           Yes   \n",
       "2  LP001006   Male     Yes          0  Not Graduate            No   \n",
       "3  LP001008   Male      No          0      Graduate            No   \n",
       "4  LP001013   Male     Yes          0  Not Graduate            No   \n",
       "\n",
       "   ApplicantIncome  CoapplicantIncome  LoanAmount  Loan_Amount_Term  \\\n",
       "0             4583             1508.0         128             360.0   \n",
       "1             3000                0.0          66             360.0   \n",
       "2             2583             2358.0         120             360.0   \n",
       "3             6000                0.0         141             360.0   \n",
       "4             2333             1516.0          95             360.0   \n",
       "\n",
       "   Credit_History Property_Area Loan_Status  \n",
       "0             1.0         Rural           N  \n",
       "1             1.0         Urban           Y  \n",
       "2             1.0         Urban           Y  \n",
       "3             1.0         Urban           Y  \n",
       "4             1.0         Urban           Y  "
      ]
     },
     "execution_count": 3,
     "metadata": {},
     "output_type": "execute_result"
    }
   ],
   "source": [
    "df = pd.read_csv('C:\\\\Users\\\\USER\\\\Desktop\\\\Python\\\\Tripjack\\\\loan_data.csv')\n",
    "df.head()"
   ]
  },
  {
   "cell_type": "markdown",
   "id": "caad3aae-91db-4af9-81c8-d8e959a167b1",
   "metadata": {},
   "source": [
    "# Dataset Info:"
   ]
  },
  {
   "cell_type": "code",
   "execution_count": 4,
   "id": "8f52aca3-c83f-4df8-82a1-249e6412db77",
   "metadata": {},
   "outputs": [
    {
     "name": "stdout",
     "output_type": "stream",
     "text": [
      "<class 'pandas.core.frame.DataFrame'>\n",
      "RangeIndex: 381 entries, 0 to 380\n",
      "Data columns (total 13 columns):\n",
      " #   Column             Non-Null Count  Dtype  \n",
      "---  ------             --------------  -----  \n",
      " 0   Loan_ID            381 non-null    object \n",
      " 1   Gender             376 non-null    object \n",
      " 2   Married            381 non-null    object \n",
      " 3   Dependents         373 non-null    object \n",
      " 4   Education          381 non-null    object \n",
      " 5   Self_Employed      360 non-null    object \n",
      " 6   ApplicantIncome    381 non-null    int64  \n",
      " 7   CoapplicantIncome  381 non-null    float64\n",
      " 8   LoanAmount         381 non-null    int64  \n",
      " 9   Loan_Amount_Term   370 non-null    float64\n",
      " 10  Credit_History     351 non-null    float64\n",
      " 11  Property_Area      381 non-null    object \n",
      " 12  Loan_Status        381 non-null    object \n",
      "dtypes: float64(3), int64(2), object(8)\n",
      "memory usage: 38.8+ KB\n"
     ]
    }
   ],
   "source": [
    "df.info()"
   ]
  },
  {
   "cell_type": "markdown",
   "id": "0da2a77e-471a-412f-915e-ec32b2d68cf7",
   "metadata": {},
   "source": [
    "# Dataset Shape:"
   ]
  },
  {
   "cell_type": "code",
   "execution_count": 6,
   "id": "9b107ef2-ffe6-470e-9457-4b5caecb8857",
   "metadata": {},
   "outputs": [
    {
     "data": {
      "text/plain": [
       "(381, 13)"
      ]
     },
     "execution_count": 6,
     "metadata": {},
     "output_type": "execute_result"
    }
   ],
   "source": [
    "df.shape"
   ]
  },
  {
   "cell_type": "markdown",
   "id": "a194b44f-8fb3-4116-8464-62337a7ed44e",
   "metadata": {},
   "source": [
    "# Statistical Measures"
   ]
  },
  {
   "cell_type": "code",
   "execution_count": 25,
   "id": "63c206cf-d73d-4d96-9f38-566d8e2e8e0b",
   "metadata": {},
   "outputs": [
    {
     "data": {
      "text/html": [
       "<div>\n",
       "<style scoped>\n",
       "    .dataframe tbody tr th:only-of-type {\n",
       "        vertical-align: middle;\n",
       "    }\n",
       "\n",
       "    .dataframe tbody tr th {\n",
       "        vertical-align: top;\n",
       "    }\n",
       "\n",
       "    .dataframe thead th {\n",
       "        text-align: right;\n",
       "    }\n",
       "</style>\n",
       "<table border=\"1\" class=\"dataframe\">\n",
       "  <thead>\n",
       "    <tr style=\"text-align: right;\">\n",
       "      <th></th>\n",
       "      <th>ApplicantIncome</th>\n",
       "      <th>CoapplicantIncome</th>\n",
       "      <th>LoanAmount</th>\n",
       "      <th>Loan_Amount_Term</th>\n",
       "      <th>Credit_History</th>\n",
       "    </tr>\n",
       "  </thead>\n",
       "  <tbody>\n",
       "    <tr>\n",
       "      <th>count</th>\n",
       "      <td>338.000000</td>\n",
       "      <td>338.000000</td>\n",
       "      <td>338.000000</td>\n",
       "      <td>338.000000</td>\n",
       "      <td>338.000000</td>\n",
       "    </tr>\n",
       "    <tr>\n",
       "      <th>mean</th>\n",
       "      <td>3571.440828</td>\n",
       "      <td>1293.375503</td>\n",
       "      <td>104.633136</td>\n",
       "      <td>340.295858</td>\n",
       "      <td>0.866864</td>\n",
       "    </tr>\n",
       "    <tr>\n",
       "      <th>std</th>\n",
       "      <td>1427.440692</td>\n",
       "      <td>2448.339459</td>\n",
       "      <td>28.977148</td>\n",
       "      <td>69.474040</td>\n",
       "      <td>0.340225</td>\n",
       "    </tr>\n",
       "    <tr>\n",
       "      <th>min</th>\n",
       "      <td>150.000000</td>\n",
       "      <td>0.000000</td>\n",
       "      <td>9.000000</td>\n",
       "      <td>12.000000</td>\n",
       "      <td>0.000000</td>\n",
       "    </tr>\n",
       "    <tr>\n",
       "      <th>25%</th>\n",
       "      <td>2540.250000</td>\n",
       "      <td>0.000000</td>\n",
       "      <td>89.250000</td>\n",
       "      <td>360.000000</td>\n",
       "      <td>1.000000</td>\n",
       "    </tr>\n",
       "    <tr>\n",
       "      <th>50%</th>\n",
       "      <td>3329.500000</td>\n",
       "      <td>918.000000</td>\n",
       "      <td>110.000000</td>\n",
       "      <td>360.000000</td>\n",
       "      <td>1.000000</td>\n",
       "    </tr>\n",
       "    <tr>\n",
       "      <th>75%</th>\n",
       "      <td>4268.250000</td>\n",
       "      <td>2000.000000</td>\n",
       "      <td>128.000000</td>\n",
       "      <td>360.000000</td>\n",
       "      <td>1.000000</td>\n",
       "    </tr>\n",
       "    <tr>\n",
       "      <th>max</th>\n",
       "      <td>9703.000000</td>\n",
       "      <td>33837.000000</td>\n",
       "      <td>150.000000</td>\n",
       "      <td>480.000000</td>\n",
       "      <td>1.000000</td>\n",
       "    </tr>\n",
       "  </tbody>\n",
       "</table>\n",
       "</div>"
      ],
      "text/plain": [
       "       ApplicantIncome  CoapplicantIncome  LoanAmount  Loan_Amount_Term  \\\n",
       "count       338.000000         338.000000  338.000000        338.000000   \n",
       "mean       3571.440828        1293.375503  104.633136        340.295858   \n",
       "std        1427.440692        2448.339459   28.977148         69.474040   \n",
       "min         150.000000           0.000000    9.000000         12.000000   \n",
       "25%        2540.250000           0.000000   89.250000        360.000000   \n",
       "50%        3329.500000         918.000000  110.000000        360.000000   \n",
       "75%        4268.250000        2000.000000  128.000000        360.000000   \n",
       "max        9703.000000       33837.000000  150.000000        480.000000   \n",
       "\n",
       "       Credit_History  \n",
       "count      338.000000  \n",
       "mean         0.866864  \n",
       "std          0.340225  \n",
       "min          0.000000  \n",
       "25%          1.000000  \n",
       "50%          1.000000  \n",
       "75%          1.000000  \n",
       "max          1.000000  "
      ]
     },
     "execution_count": 25,
     "metadata": {},
     "output_type": "execute_result"
    }
   ],
   "source": [
    "df.describe()"
   ]
  },
  {
   "cell_type": "markdown",
   "id": "30ee72b9-01be-4e11-a3c0-a2061c4f884c",
   "metadata": {},
   "source": [
    "# Data Cleaning\n",
    "## Checking the Missing Values"
   ]
  },
  {
   "cell_type": "code",
   "execution_count": 7,
   "id": "0395bba3-8b35-4d85-978b-05ee5a150b3a",
   "metadata": {},
   "outputs": [
    {
     "data": {
      "text/plain": [
       "Loan_ID               0\n",
       "Gender                5\n",
       "Married               0\n",
       "Dependents            8\n",
       "Education             0\n",
       "Self_Employed        21\n",
       "ApplicantIncome       0\n",
       "CoapplicantIncome     0\n",
       "LoanAmount            0\n",
       "Loan_Amount_Term     11\n",
       "Credit_History       30\n",
       "Property_Area         0\n",
       "Loan_Status           0\n",
       "dtype: int64"
      ]
     },
     "execution_count": 7,
     "metadata": {},
     "output_type": "execute_result"
    }
   ],
   "source": [
    "df.isnull().sum()"
   ]
  },
  {
   "cell_type": "markdown",
   "id": "7fc0d32e-74dd-4e65-af96-9a734f6380f3",
   "metadata": {},
   "source": [
    "## Filling the Missing Values in numerical columns \"LoanAmount\" & \"Credit_History\" by the 'Mean' & 'Median' of the respective variables."
   ]
  },
  {
   "cell_type": "code",
   "execution_count": 8,
   "id": "8cf1eb26-b708-4716-9065-8a6f8ea7810a",
   "metadata": {},
   "outputs": [],
   "source": [
    "df['LoanAmount'] = df['LoanAmount'].fillna(df['LoanAmount'].mean())"
   ]
  },
  {
   "cell_type": "code",
   "execution_count": 10,
   "id": "9c192b38-76da-49a2-869c-8eb31a3d185a",
   "metadata": {},
   "outputs": [],
   "source": [
    "df['Credit_History'] = df['Credit_History'].fillna(df['Credit_History'].median())"
   ]
  },
  {
   "cell_type": "markdown",
   "id": "cbf120ec-22b8-4233-9b0d-94fced98a712",
   "metadata": {},
   "source": [
    "## Confirming if there is any missing value in 'LoanAmount' & 'Credit_History'"
   ]
  },
  {
   "cell_type": "code",
   "execution_count": 12,
   "id": "abda70f1-52e8-4646-b5e8-afde732b257d",
   "metadata": {},
   "outputs": [
    {
     "data": {
      "text/plain": [
       "Loan_ID               0\n",
       "Gender                5\n",
       "Married               0\n",
       "Dependents            8\n",
       "Education             0\n",
       "Self_Employed        21\n",
       "ApplicantIncome       0\n",
       "CoapplicantIncome     0\n",
       "LoanAmount            0\n",
       "Loan_Amount_Term     11\n",
       "Credit_History        0\n",
       "Property_Area         0\n",
       "Loan_Status           0\n",
       "dtype: int64"
      ]
     },
     "execution_count": 12,
     "metadata": {},
     "output_type": "execute_result"
    }
   ],
   "source": [
    "df.isnull().sum()"
   ]
  },
  {
   "cell_type": "markdown",
   "id": "6dcc7db3-d089-417e-a00a-88ac6449f891",
   "metadata": {},
   "source": [
    "## No missing values in the numerical columns 'LoanAmount' & 'Credit_History'\n",
    "## Dropping all the remaining missing values of the categorical columns"
   ]
  },
  {
   "cell_type": "code",
   "execution_count": 13,
   "id": "9c090f08-1372-43b3-a4d2-79ae72f18238",
   "metadata": {},
   "outputs": [],
   "source": [
    "df.dropna(inplace=True)"
   ]
  },
  {
   "cell_type": "code",
   "execution_count": 14,
   "id": "3bdb114e-25ec-4e27-9629-049f5947a876",
   "metadata": {},
   "outputs": [
    {
     "data": {
      "text/plain": [
       "Loan_ID              0\n",
       "Gender               0\n",
       "Married              0\n",
       "Dependents           0\n",
       "Education            0\n",
       "Self_Employed        0\n",
       "ApplicantIncome      0\n",
       "CoapplicantIncome    0\n",
       "LoanAmount           0\n",
       "Loan_Amount_Term     0\n",
       "Credit_History       0\n",
       "Property_Area        0\n",
       "Loan_Status          0\n",
       "dtype: int64"
      ]
     },
     "execution_count": 14,
     "metadata": {},
     "output_type": "execute_result"
    }
   ],
   "source": [
    "df.isnull().sum()"
   ]
  },
  {
   "cell_type": "markdown",
   "id": "a403c4e6-8576-4c92-99db-635eb7de2859",
   "metadata": {},
   "source": [
    " Here, we have dropped all the missing values to avoid disturbances in the model.\n",
    " \n",
    " ##### The Loan Prediction requires all the details to work efficiently and thus the missing values are dropped."
   ]
  },
  {
   "cell_type": "markdown",
   "id": "bd443ccf-6b0c-4c14-b8c0-06b95bdaec98",
   "metadata": {},
   "source": [
    "## Final Data Shape"
   ]
  },
  {
   "cell_type": "code",
   "execution_count": 17,
   "id": "f143fd6e-e492-4fb1-b5b5-1961f4985ad3",
   "metadata": {},
   "outputs": [
    {
     "data": {
      "text/plain": [
       "(338, 13)"
      ]
     },
     "execution_count": 17,
     "metadata": {},
     "output_type": "execute_result"
    }
   ],
   "source": [
    "df.shape"
   ]
  },
  {
   "cell_type": "markdown",
   "id": "b2cbaef0-8e30-434b-8440-dd5f6dae4ff0",
   "metadata": {},
   "source": [
    "# Analyzing values assigned to columns"
   ]
  },
  {
   "cell_type": "code",
   "execution_count": 2,
   "id": "43f45dd5-7a65-425a-b8f6-9f7a35a4676d",
   "metadata": {},
   "outputs": [
    {
     "name": "stdout",
     "output_type": "stream",
     "text": [
      "Categorical Columns: \n",
      "['Gender', 'Married', 'Dependents', 'Education', 'Self_Employed', 'Property_Area', 'Credit_History', 'Loan_Amount_Term']\n",
      "----------------------------------------------------------------------------------------------------------------------------------\n",
      "Numerical Columns: \n",
      "['ApplicantIncome', 'CoapplicantIncome', 'LoanAmount']\n"
     ]
    }
   ],
   "source": [
    "categorical_columns = ['Gender', 'Married', 'Dependents', 'Education', 'Self_Employed', 'Property_Area','Credit_History','Loan_Amount_Term']\n",
    "#categorical_columns = ['Gender', 'Married', 'Dependents', 'Education', 'Self_Employed', 'Property_Area','Loan_Amount_Term']\n",
    "\n",
    "\n",
    "print('Categorical Columns: ')\n",
    "print(categorical_columns)\n",
    "\n",
    "print('-'*130)\n",
    "\n",
    "numerical_columns = ['ApplicantIncome', 'CoapplicantIncome', 'LoanAmount']\n",
    "print('Numerical Columns: ')\n",
    "print(numerical_columns)"
   ]
  },
  {
   "cell_type": "markdown",
   "id": "467cc463-57a2-4942-9f17-c00b32a08d33",
   "metadata": {},
   "source": [
    "# Exploratory Data Analysis (EDA)"
   ]
  },
  {
   "cell_type": "code",
   "execution_count": 74,
   "id": "50cc7f6c-63ba-4301-b690-df6b1d0d8337",
   "metadata": {},
   "outputs": [
    {
     "data": {
      "image/png": "[encoded data removed]",
      "text/plain": [
       "<Figure size 1200x1500 with 8 Axes>"
      ]
     },
     "metadata": {},
     "output_type": "display_data"
    }
   ],
   "source": [
    "fig, axes = plt.subplots(4, 2, figsize=(12, 15))\n",
    "\n",
    "for idx, cat_col in enumerate(categorical_columns):\n",
    "    row, col = idx // 2, idx % 2\n",
    "    sns.countplot(x=cat_col, data=df, hue='Loan_Status', ax=axes[row, col], palette='Set1')\n",
    "\n",
    "plt.subplots_adjust(hspace=1)\n",
    "plt.show()"
   ]
  },
  {
   "cell_type": "markdown",
   "id": "18804374-1bf7-4ca7-adcc-d3c2d43db181",
   "metadata": {},
   "source": [
    "# Observations"
   ]
  },
  {
   "cell_type": "markdown",
   "id": "c228c4ff-7ae1-4d4f-887e-712fe97827b8",
   "metadata": {},
   "source": [
    "#### Plots above convey following things about the dataset:\n",
    "\n",
    "1.   Loan Approval Status: About 2/3rd of applicants have been granted loan.\n",
    "2.   Gender: There are more Men than Women (approx. 3x)\n",
    "3.   Martial Status: 2/3rd of the population in the dataset is Marred; Married applicants are more likely to be granted loans.\n",
    "4.   Dependents: Majority of the population have zero dependents and are also likely to accepted for loan.\n",
    "5.   Education: About 5/6th of the population is Graduate and graduates have higher propotion of loan approval\n",
    "6.   Employment: 5/6th of population is not self employed.\n",
    "7.   Property Area: More applicants from Semi-urban and also likely to be granted loans.\n",
    "8.   Applicant with credit history are far more likely to be accepted.\n",
    "9.   Loan Amount Term: Majority of the loans taken are for 360 Months (30 years)."
   ]
  },
  {
   "cell_type": "markdown",
   "id": "71c9f4a8-329e-4a5e-9bbd-a59e1db9e3dd",
   "metadata": {},
   "source": [
    "## Analyzing Numerical Data"
   ]
  },
  {
   "cell_type": "code",
   "execution_count": 65,
   "id": "acb94dfc-ac80-4064-baee-ddbefe9e2b93",
   "metadata": {},
   "outputs": [
    {
     "name": "stdout",
     "output_type": "stream",
     "text": [
      "       ApplicantIncome  CoapplicantIncome  LoanAmount\n",
      "count       338.000000         338.000000  338.000000\n",
      "mean       3571.440828        1293.375503  104.633136\n",
      "std        1427.440692        2448.339459   28.977148\n",
      "min         150.000000           0.000000    9.000000\n",
      "25%        2540.250000           0.000000   89.250000\n",
      "50%        3329.500000         918.000000  110.000000\n",
      "75%        4268.250000        2000.000000  128.000000\n",
      "max        9703.000000       33837.000000  150.000000\n"
     ]
    },
    {
     "data": {
      "image/png": "[encoded data removed]",
      "text/plain": [
       "<Figure size 1700x500 with 3 Axes>"
      ]
     },
     "metadata": {},
     "output_type": "display_data"
    }
   ],
   "source": [
    "fig,axes = plt.subplots(1,3,figsize=(17,5))\n",
    "for idx,cat_col in enumerate(numerical_columns):\n",
    "    sns.boxplot(y=cat_col,data=df,x='Loan_Status',ax=axes[idx], palette='bright')\n",
    "\n",
    "print(df[numerical_columns].describe())\n",
    "plt.subplots_adjust(hspace=1)"
   ]
  },
  {
   "cell_type": "markdown",
   "id": "1750c394-47d2-4d61-8225-81ea0c010025",
   "metadata": {},
   "source": [
    "### For Numercical Columns, there is no significant relation to Loan approval status."
   ]
  },
  {
   "cell_type": "markdown",
   "id": "00ec72ae-cfd2-4dec-a600-1199e0c245fc",
   "metadata": {},
   "source": [
    "Highest number of loans were applied in Semi-urban aera, followed by Urban and Rural area.\n",
    "\n",
    "Partten of Loan Approval or Rejection is nearly same in all of the three property areas.\n",
    "\n",
    "The property area has little impact on the Loan Approval chances."
   ]
  },
  {
   "cell_type": "markdown",
   "id": "3d1a2e11-aeb0-434f-97c6-3bc4c9d08ed1",
   "metadata": {},
   "source": [
    "### Replacing the Variable values to Numerical form & display the Value Counts\n",
    "\n",
    "The data in Numerical form avoids disturbances in building the model. "
   ]
  },
  {
   "cell_type": "code",
   "execution_count": 66,
   "id": "fc59fc16-9ae0-4192-88b7-d2cc5dfadf41",
   "metadata": {},
   "outputs": [],
   "source": [
    "df['Loan_Status'].replace('Y',1,inplace=True)\n",
    "df['Loan_Status'].replace('N',0,inplace=True)"
   ]
  },
  {
   "cell_type": "code",
   "execution_count": 67,
   "id": "753c9e48-0f06-4513-832f-6a3deda170bb",
   "metadata": {},
   "outputs": [
    {
     "data": {
      "text/plain": [
       "Loan_Status\n",
       "1    245\n",
       "0     93\n",
       "Name: count, dtype: int64"
      ]
     },
     "execution_count": 67,
     "metadata": {},
     "output_type": "execute_result"
    }
   ],
   "source": [
    "df['Loan_Status'].value_counts()"
   ]
  },
  {
   "cell_type": "code",
   "execution_count": 68,
   "id": "85f948fb-466c-422b-90c9-9d0c4d7f3746",
   "metadata": {},
   "outputs": [
    {
     "data": {
      "text/plain": [
       "Gender\n",
       "1    265\n",
       "0     73\n",
       "Name: count, dtype: int64"
      ]
     },
     "execution_count": 68,
     "metadata": {},
     "output_type": "execute_result"
    }
   ],
   "source": [
    "df.Gender=df.Gender.map({'Male':1,'Female':0})\n",
    "df['Gender'].value_counts()"
   ]
  },
  {
   "cell_type": "code",
   "execution_count": 69,
   "id": "037f720f-754c-45d4-87c7-d47545ccd2b2",
   "metadata": {},
   "outputs": [
    {
     "data": {
      "text/plain": [
       "Married\n",
       "1    206\n",
       "0    132\n",
       "Name: count, dtype: int64"
      ]
     },
     "execution_count": 69,
     "metadata": {},
     "output_type": "execute_result"
    }
   ],
   "source": [
    "df.Married=df.Married.map({'Yes':1,'No':0})\n",
    "df['Married'].value_counts()"
   ]
  },
  {
   "cell_type": "code",
   "execution_count": 70,
   "id": "4be5abc2-596b-422e-96e1-f533154b7768",
   "metadata": {},
   "outputs": [
    {
     "data": {
      "text/plain": [
       "Dependents\n",
       "0    212\n",
       "2     52\n",
       "1     48\n",
       "3     26\n",
       "Name: count, dtype: int64"
      ]
     },
     "execution_count": 70,
     "metadata": {},
     "output_type": "execute_result"
    }
   ],
   "source": [
    "df.Dependents=df.Dependents.map({'0':0,'1':1,'2':2,'3+':3})\n",
    "df['Dependents'].value_counts()"
   ]
  },
  {
   "cell_type": "code",
   "execution_count": 71,
   "id": "c0c83b15-868e-4a33-8ec4-29472fae220a",
   "metadata": {},
   "outputs": [
    {
     "data": {
      "text/plain": [
       "Education\n",
       "1    249\n",
       "0     89\n",
       "Name: count, dtype: int64"
      ]
     },
     "execution_count": 71,
     "metadata": {},
     "output_type": "execute_result"
    }
   ],
   "source": [
    "df.Education=df.Education.map({'Graduate':1,'Not Graduate':0})\n",
    "df['Education'].value_counts()"
   ]
  },
  {
   "cell_type": "code",
   "execution_count": 72,
   "id": "b1c710ea-99da-4bf0-83d3-7161a42b661e",
   "metadata": {},
   "outputs": [
    {
     "data": {
      "text/plain": [
       "Self_Employed\n",
       "0    306\n",
       "1     32\n",
       "Name: count, dtype: int64"
      ]
     },
     "execution_count": 72,
     "metadata": {},
     "output_type": "execute_result"
    }
   ],
   "source": [
    "df.Self_Employed=df.Self_Employed.map({'Yes':1,'No':0})\n",
    "df['Self_Employed'].value_counts()"
   ]
  },
  {
   "cell_type": "code",
   "execution_count": 75,
   "id": "ef1383b9-dd37-4a46-b685-f1401916bc62",
   "metadata": {},
   "outputs": [
    {
     "data": {
      "text/plain": [
       "Property_Area\n",
       "1    133\n",
       "2    110\n",
       "0     95\n",
       "Name: count, dtype: int64"
      ]
     },
     "execution_count": 75,
     "metadata": {},
     "output_type": "execute_result"
    }
   ],
   "source": [
    "df.Property_Area=df.Property_Area.map({'Urban':2,'Rural':0,'Semiurban':1})\n",
    "df['Property_Area'].value_counts()"
   ]
  },
  {
   "cell_type": "code",
   "execution_count": 76,
   "id": "a251f992-ec59-43b4-9a91-d95f37ce158e",
   "metadata": {},
   "outputs": [
    {
     "data": {
      "text/plain": [
       "Credit_History\n",
       "1.0    293\n",
       "0.0     45\n",
       "Name: count, dtype: int64"
      ]
     },
     "execution_count": 76,
     "metadata": {},
     "output_type": "execute_result"
    }
   ],
   "source": [
    "df['Credit_History'].value_counts()"
   ]
  },
  {
   "cell_type": "markdown",
   "id": "4b477b09-a314-41e6-9c7d-ca8e0ad6e4e3",
   "metadata": {},
   "source": [
    "### Final DataFrame"
   ]
  },
  {
   "cell_type": "code",
   "execution_count": 77,
   "id": "1cea5c22-f410-4a22-8246-ef7c9638fd1a",
   "metadata": {},
   "outputs": [
    {
     "data": {
      "text/html": [
       "<div>\n",
       "<style scoped>\n",
       "    .dataframe tbody tr th:only-of-type {\n",
       "        vertical-align: middle;\n",
       "    }\n",
       "\n",
       "    .dataframe tbody tr th {\n",
       "        vertical-align: top;\n",
       "    }\n",
       "\n",
       "    .dataframe thead th {\n",
       "        text-align: right;\n",
       "    }\n",
       "</style>\n",
       "<table border=\"1\" class=\"dataframe\">\n",
       "  <thead>\n",
       "    <tr style=\"text-align: right;\">\n",
       "      <th></th>\n",
       "      <th>Loan_ID</th>\n",
       "      <th>Gender</th>\n",
       "      <th>Married</th>\n",
       "      <th>Dependents</th>\n",
       "      <th>Education</th>\n",
       "      <th>Self_Employed</th>\n",
       "      <th>ApplicantIncome</th>\n",
       "      <th>CoapplicantIncome</th>\n",
       "      <th>LoanAmount</th>\n",
       "      <th>Loan_Amount_Term</th>\n",
       "      <th>Credit_History</th>\n",
       "      <th>Property_Area</th>\n",
       "      <th>Loan_Status</th>\n",
       "    </tr>\n",
       "  </thead>\n",
       "  <tbody>\n",
       "    <tr>\n",
       "      <th>0</th>\n",
       "      <td>LP001003</td>\n",
       "      <td>1</td>\n",
       "      <td>1</td>\n",
       "      <td>1</td>\n",
       "      <td>1</td>\n",
       "      <td>0</td>\n",
       "      <td>4583</td>\n",
       "      <td>1508.0</td>\n",
       "      <td>128</td>\n",
       "      <td>360.0</td>\n",
       "      <td>1.0</td>\n",
       "      <td>0</td>\n",
       "      <td>0</td>\n",
       "    </tr>\n",
       "    <tr>\n",
       "      <th>1</th>\n",
       "      <td>LP001005</td>\n",
       "      <td>1</td>\n",
       "      <td>1</td>\n",
       "      <td>0</td>\n",
       "      <td>1</td>\n",
       "      <td>1</td>\n",
       "      <td>3000</td>\n",
       "      <td>0.0</td>\n",
       "      <td>66</td>\n",
       "      <td>360.0</td>\n",
       "      <td>1.0</td>\n",
       "      <td>2</td>\n",
       "      <td>1</td>\n",
       "    </tr>\n",
       "    <tr>\n",
       "      <th>2</th>\n",
       "      <td>LP001006</td>\n",
       "      <td>1</td>\n",
       "      <td>1</td>\n",
       "      <td>0</td>\n",
       "      <td>0</td>\n",
       "      <td>0</td>\n",
       "      <td>2583</td>\n",
       "      <td>2358.0</td>\n",
       "      <td>120</td>\n",
       "      <td>360.0</td>\n",
       "      <td>1.0</td>\n",
       "      <td>2</td>\n",
       "      <td>1</td>\n",
       "    </tr>\n",
       "    <tr>\n",
       "      <th>3</th>\n",
       "      <td>LP001008</td>\n",
       "      <td>1</td>\n",
       "      <td>0</td>\n",
       "      <td>0</td>\n",
       "      <td>1</td>\n",
       "      <td>0</td>\n",
       "      <td>6000</td>\n",
       "      <td>0.0</td>\n",
       "      <td>141</td>\n",
       "      <td>360.0</td>\n",
       "      <td>1.0</td>\n",
       "      <td>2</td>\n",
       "      <td>1</td>\n",
       "    </tr>\n",
       "    <tr>\n",
       "      <th>4</th>\n",
       "      <td>LP001013</td>\n",
       "      <td>1</td>\n",
       "      <td>1</td>\n",
       "      <td>0</td>\n",
       "      <td>0</td>\n",
       "      <td>0</td>\n",
       "      <td>2333</td>\n",
       "      <td>1516.0</td>\n",
       "      <td>95</td>\n",
       "      <td>360.0</td>\n",
       "      <td>1.0</td>\n",
       "      <td>2</td>\n",
       "      <td>1</td>\n",
       "    </tr>\n",
       "  </tbody>\n",
       "</table>\n",
       "</div>"
      ],
      "text/plain": [
       "    Loan_ID  Gender  Married  Dependents  Education  Self_Employed  \\\n",
       "0  LP001003       1        1           1          1              0   \n",
       "1  LP001005       1        1           0          1              1   \n",
       "2  LP001006       1        1           0          0              0   \n",
       "3  LP001008       1        0           0          1              0   \n",
       "4  LP001013       1        1           0          0              0   \n",
       "\n",
       "   ApplicantIncome  CoapplicantIncome  LoanAmount  Loan_Amount_Term  \\\n",
       "0             4583             1508.0         128             360.0   \n",
       "1             3000                0.0          66             360.0   \n",
       "2             2583             2358.0         120             360.0   \n",
       "3             6000                0.0         141             360.0   \n",
       "4             2333             1516.0          95             360.0   \n",
       "\n",
       "   Credit_History  Property_Area  Loan_Status  \n",
       "0             1.0              0            0  \n",
       "1             1.0              2            1  \n",
       "2             1.0              2            1  \n",
       "3             1.0              2            1  \n",
       "4             1.0              2            1  "
      ]
     },
     "execution_count": 77,
     "metadata": {},
     "output_type": "execute_result"
    }
   ],
   "source": [
    "df.head()"
   ]
  },
  {
   "cell_type": "markdown",
   "id": "a96449f3-d2d7-4721-83ab-66ccb687ee50",
   "metadata": {},
   "source": [
    "### Importing Packages for Classification algorithms"
   ]
  },
  {
   "cell_type": "code",
   "execution_count": 81,
   "id": "5a8b8911-eca9-43c3-aef7-6fa240a393e1",
   "metadata": {},
   "outputs": [],
   "source": [
    "from sklearn.model_selection import train_test_split\n",
    "from sklearn.linear_model import LogisticRegression\n",
    "from sklearn import metrics"
   ]
  },
  {
   "cell_type": "markdown",
   "id": "a002dffc-9371-42a7-b359-051854108386",
   "metadata": {},
   "source": [
    "### Splitting the data into Train and Test set"
   ]
  },
  {
   "cell_type": "code",
   "execution_count": 82,
   "id": "740e320f-067f-4ce8-811f-c4b6ef790bcd",
   "metadata": {},
   "outputs": [],
   "source": [
    "X = df.iloc[1:542,1:12].values\n",
    "y = df.iloc[1:542,12].values"
   ]
  },
  {
   "cell_type": "code",
   "execution_count": 83,
   "id": "1b9f586f-b217-416a-a03d-49d337d8644c",
   "metadata": {},
   "outputs": [],
   "source": [
    "X_train, X_test, y_train, y_test = train_test_split(X, y, test_size=0.3,random_state=0)"
   ]
  },
  {
   "cell_type": "markdown",
   "id": "23dea392-1386-4814-9ca5-7c13b34d91f4",
   "metadata": {},
   "source": [
    "# Logistic Regression (LR)"
   ]
  },
  {
   "cell_type": "markdown",
   "id": "634c6b7d-a281-4b2a-8ffa-03c6b1d6cf7e",
   "metadata": {},
   "source": [
    "Logistic regression is a supervised learning classification algorithm used to predict the probability of a target variable. \n",
    "\n",
    "Mathematically, a logistic regression model predicts P(Y=1) as a function of X. It is one of the simplest ML algorithms that can be used for various classification problems such as spam detection, Diabetes prediction, cancer detection etc."
   ]
  },
  {
   "cell_type": "markdown",
   "id": "301a70e5-cbc3-4e58-885b-fec56c11517f",
   "metadata": {},
   "source": [
    "## Sigmoid Function"
   ]
  },
  {
   "attachments": {
    "bcbe8a63-19b3-4e8a-838c-85d5c671e507.png": {
     "image/png": "[encoded data removed]"
    }
   },
   "cell_type": "markdown",
   "id": "8534ef92-a5b1-4967-86cf-8a545f7b9949",
   "metadata": {},
   "source": [
    "![Logistic Regression.png](attachment:bcbe8a63-19b3-4e8a-838c-85d5c671e507.png)"
   ]
  },
  {
   "cell_type": "code",
   "execution_count": 90,
   "id": "ddf42f9b-eaac-4efc-8e5f-77601a7a0181",
   "metadata": {},
   "outputs": [
    {
     "name": "stdout",
     "output_type": "stream",
     "text": [
      "Logistic Regression accuracy =  0.8627450980392157\n"
     ]
    }
   ],
   "source": [
    "model = LogisticRegression()\n",
    "model.fit(X_train,y_train)\n",
    "\n",
    "lr_prediction = model.predict(X_test)\n",
    "print('Logistic Regression accuracy = ', metrics.accuracy_score(lr_prediction,y_test))"
   ]
  },
  {
   "cell_type": "code",
   "execution_count": 91,
   "id": "dd5d7746-fcff-46fa-a320-a3c0656f9ed8",
   "metadata": {},
   "outputs": [
    {
     "name": "stdout",
     "output_type": "stream",
     "text": [
      "y_predicted [1 1 0 0 1 1 1 1 1 1 1 1 1 1 1 1 1 0 1 1 1 0 0 1 1 1 1 1 0 1 1 1 1 1 1 1 1\n",
      " 1 1 0 1 1 1 1 1 1 1 1 1 1 1 0 1 0 1 1 1 1 1 1 1 1 1 1 1 1 0 1 1 0 1 1 1 1\n",
      " 1 1 1 1 1 1 1 1 1 1 1 0 1 1 0 1 0 1 1 1 1 1 1 1 0 1 1 1]\n",
      "y_test [1 1 0 0 1 1 0 0 1 1 0 0 1 1 1 1 1 0 1 1 1 0 0 0 1 1 1 1 0 1 1 1 1 1 1 1 1\n",
      " 1 0 0 1 1 1 1 1 1 1 1 0 1 1 0 1 0 1 1 1 1 1 1 1 1 0 1 1 1 0 0 0 0 1 1 1 1\n",
      " 0 1 1 1 1 1 1 1 1 1 1 0 1 1 0 1 0 0 1 0 1 1 0 1 0 1 1 1]\n"
     ]
    }
   ],
   "source": [
    "print(\"y_predicted\",lr_prediction)\n",
    "print(\"y_test\",y_test)"
   ]
  },
  {
   "cell_type": "markdown",
   "id": "a3372b10-3f49-47a6-ab9c-58d9113da4f8",
   "metadata": {},
   "source": [
    "# CONCLUSION:\n",
    "\n",
    "1. The Loan Status is heavily dependent on the Credit History for Predictions.\n",
    "   \n",
    "2. The Logistic Regression Algorithm gives us the Accuracy of 86% (approx)."
   ]
  },
  {
   "cell_type": "code",
   "execution_count": null,
   "id": "adf085a3-b820-4ad2-bbe7-017af74e081a",
   "metadata": {},
   "outputs": [],
   "source": []
  }
 ],
 "metadata": {
  "kernelspec": {
   "display_name": "Python 3 (ipykernel)",
   "language": "python",
   "name": "python3"
  },
  "language_info": {
   "codemirror_mode": {
    "name": "ipython",
    "version": 3
   },
   "file_extension": ".py",
   "mimetype": "text/x-python",
   "name": "python",
   "nbconvert_exporter": "python",
   "pygments_lexer": "ipython3",
   "version": "3.12.1"
  }
 },
 "nbformat": 4,
 "nbformat_minor": 5
}
